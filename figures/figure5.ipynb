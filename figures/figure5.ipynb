{
 "cells": [
  {
   "cell_type": "code",
   "execution_count": null,
   "id": "f3b59009-a606-4222-9929-b033a7f22c02",
   "metadata": {},
   "outputs": [],
   "source": [
    "import datasets \n",
    "import matplotlib.pyplot as plt\n",
    "import mpl_lego as mplego\n",
    "import numpy as np\n",
    "\n",
    "from mpl_lego.colorbar import append_colorbar_to_axis\n",
    "from mpl_lego.labels import bold_text\n",
    "from hate_measure import keys\n",
    "\n",
    "%matplotlib inline"
   ]
  },
  {
   "cell_type": "code",
   "execution_count": null,
   "id": "7538a043-1708-45d8-abdb-4e2ced3c6721",
   "metadata": {},
   "outputs": [],
   "source": [
    "mplego.style.use_latex_style()"
   ]
  },
  {
   "cell_type": "code",
   "execution_count": null,
   "id": "e3cd93ec-c7c2-4e80-9055-e584c3ee5316",
   "metadata": {},
   "outputs": [],
   "source": [
    "dataset = datasets.load_dataset('ucberkeley-dlab/measuring-hate-speech', 'binary')   \n",
    "df = dataset['train'].to_pandas().sort_values('annotator_id').drop_duplicates('annotator_id')\n",
    "n_annotators = len(df)"
   ]
  },
  {
   "cell_type": "code",
   "execution_count": null,
   "id": "aa880e9f-bbf7-48f5-8d99-05a16db3ee22",
   "metadata": {},
   "outputs": [],
   "source": [
    "df['annotator_education_high_school'] = df[keys.annotator_education_cols[:2]].any(axis=1)\n",
    "df['annotator_education_college'] = df[keys.annotator_education_cols[2:4]].any(axis=1)\n",
    "df['annotator_education_graduate_school'] = df[keys.annotator_education_cols[4:]].any(axis=1)"
   ]
  },
  {
   "cell_type": "code",
   "execution_count": null,
   "id": "6b288336-d8d7-480c-bc91-34b71e10d10e",
   "metadata": {},
   "outputs": [],
   "source": [
    "df['annotator_income_0-50k'] = df[keys.annotator_income_cols[:2]].any(axis=1)\n",
    "df['annotator_income_50-100k'] = df[keys.annotator_income_cols[2:3]].any(axis=1)\n",
    "df['annotator_income_more_than_100k'] = df[keys.annotator_income_cols[3:]].any(axis=1)"
   ]
  },
  {
   "cell_type": "code",
   "execution_count": null,
   "id": "ef4a04e5-faf8-4125-8eca-0d8138cffaa9",
   "metadata": {},
   "outputs": [],
   "source": [
    "groups = [\n",
    "    keys.annotator_race_cols,\n",
    "    keys.annotator_gender_cols[:3] + keys.annotator_trans_cols[:2],\n",
    "    keys.annotator_sexuality_cols,\n",
    "    keys.annotator_religion_cols,\n",
    "    ['annotator_education_high_school', 'annotator_education_college', 'annotator_education_graduate_school'],\n",
    "    ['annotator_income_0-50k', 'annotator_income_50-100k', 'annotator_income_more_than_100k']\n",
    "]"
   ]
  },
  {
   "cell_type": "code",
   "execution_count": null,
   "id": "d0909884-26d7-4c25-8d19-4d9072fe889c",
   "metadata": {},
   "outputs": [],
   "source": [
    "labels = [item for group in groups for item in group]\n",
    "labels = [' '.join([chunk.capitalize() for chunk in label.split('_')[2:]])\n",
    "          for label in labels]\n",
    "labels[3] = 'Mid. East.'\n",
    "labels[4] = 'Native Amer.'\n",
    "labels[5] = 'Pac. Isl.'\n",
    "labels[10] = 'Non-Binary'\n",
    "labels[11] = 'Transgender'\n",
    "labels[12] = 'Cisgender'\n",
    "labels[27] = 'Grad School'\n",
    "labels[-1] = '$>$100k'"
   ]
  },
  {
   "cell_type": "code",
   "execution_count": null,
   "id": "936554de-033e-4d35-b58f-372b7ac6910b",
   "metadata": {},
   "outputs": [],
   "source": [
    "fig, ax = plt.subplots(1, 1, figsize=(6, 9))\n",
    "\n",
    "height = 0.15\n",
    "base = 0\n",
    "gap = 0.23\n",
    "ticks = []\n",
    "middles = []\n",
    "counter = 0\n",
    "\n",
    "for idx, group in enumerate(reversed(groups)):\n",
    "    n_entries = len(group)\n",
    "    y = np.linspace(base, base + height * (n_entries - 1), n_entries)\n",
    "    ticks.extend(y)\n",
    "\n",
    "    base = y[-1] + height + gap\n",
    "    counts = df[reversed(group)].mean()\n",
    "    middles.append(np.mean(y))\n",
    "    ax.barh(\n",
    "        y=y,\n",
    "        width=counts,\n",
    "        height=height,\n",
    "        color='lightgray',\n",
    "        edgecolor='black')\n",
    "\n",
    "ax.set_yticks(ticks)\n",
    "ax.set_yticklabels(reversed(bold_text(labels)))\n",
    "ax.grid(axis='x')\n",
    "ax.set_axisbelow(True)\n",
    "ax.set_xticks([0, 0.1, 0.2, 0.3, 0.4, 0.5, 0.6, 0.7, 0.8, 0.9, 1])\n",
    "ax.set_xlim([0, 1])\n",
    "ax.set_ylim([-0.20, ticks[-1] + 0.20])\n",
    "ax.tick_params(labelsize=12.5)\n",
    "ax.set_xlabel(bold_text('Proportion of Annotators'), fontsize=15)\n",
    "\n",
    "ax.text(x=-0.32, y=middles[0], s=bold_text('Income'), va='center', fontsize=14, rotation=90, transform=ax.transData)\n",
    "ax.text(x=-0.32, y=middles[1], s=bold_text('Educ.'), va='center', fontsize=14, rotation=90, transform=ax.transData)\n",
    "ax.text(x=-0.32, y=middles[2], s=bold_text('Religion'), va='center', fontsize=14, rotation=90, transform=ax.transData)\n",
    "ax.text(x=-0.32, y=middles[3], s=bold_text('Sexuality'), va='center', fontsize=14, rotation=90, transform=ax.transData)\n",
    "ax.text(x=-0.32, y=middles[4], s=bold_text('Gender'), va='center', fontsize=14, rotation=90, transform=ax.transData)\n",
    "ax.text(x=-0.32, y=middles[5], s=bold_text('Race'), va='center', fontsize=14, rotation=90, transform=ax.transData)\n",
    "\n",
    "plt.savefig('figure4.pdf', bbox_inches='tight')"
   ]
  }
 ],
 "metadata": {
  "kernelspec": {
   "display_name": "hate",
   "language": "python",
   "name": "hate"
  },
  "language_info": {
   "codemirror_mode": {
    "name": "ipython",
    "version": 3
   },
   "file_extension": ".py",
   "mimetype": "text/x-python",
   "name": "python",
   "nbconvert_exporter": "python",
   "pygments_lexer": "ipython3",
   "version": "3.8.12"
  }
 },
 "nbformat": 4,
 "nbformat_minor": 5
}
