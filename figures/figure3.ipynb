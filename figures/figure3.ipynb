{
 "cells": [
  {
   "cell_type": "code",
   "execution_count": 1,
   "id": "4ca967e8-6b7f-4428-84fd-15b752f44d86",
   "metadata": {},
   "outputs": [],
   "source": [
    "import datasets \n",
    "import matplotlib.pyplot as plt\n",
    "import mpl_lego as mplego\n",
    "import numpy as np\n",
    "import simpledorff\n",
    "import pandas as pd\n",
    "import pickle\n",
    "\n",
    "from mpl_lego.colorbar import append_colorbar_to_axis\n",
    "from mpl_lego.labels import bold_text\n",
    "from hate_measure.keys import items, item_labels\n",
    "from hate_measure.utils import recode_responses\n",
    "from scipy.stats import bootstrap\n",
    "\n",
    "%matplotlib inline"
   ]
  },
  {
   "cell_type": "code",
   "execution_count": 2,
   "id": "a939651b-f33f-4585-8982-1da80d02160d",
   "metadata": {},
   "outputs": [],
   "source": [
    "mplego.style.use_latex_style()"
   ]
  },
  {
   "cell_type": "code",
   "execution_count": 4,
   "id": "92ed2372-0398-4108-aea3-416888a95bfa",
   "metadata": {},
   "outputs": [],
   "source": [
    "n_items = len(item_labels)"
   ]
  },
  {
   "cell_type": "code",
   "execution_count": 5,
   "id": "b571474f-3fe2-4d5f-a63c-35d042083c70",
   "metadata": {},
   "outputs": [
    {
     "name": "stderr",
     "output_type": "stream",
     "text": [
      "Using custom data configuration ucberkeley-dlab--measuring-hate-speech-7cb9b0b8e4d0e1dd\n",
      "Reusing dataset parquet (/Users/psachdeva/.cache/huggingface/datasets/parquet/ucberkeley-dlab--measuring-hate-speech-7cb9b0b8e4d0e1dd/0.0.0/0b6d5799bb726b24ad7fc7be720c170d8e497f575d02d47537de9a5bac074901)\n"
     ]
    },
    {
     "data": {
      "application/vnd.jupyter.widget-view+json": {
       "model_id": "aa0660e218db4f209dc7cc7ce91cb7ad",
       "version_major": 2,
       "version_minor": 0
      },
      "text/plain": [
       "  0%|          | 0/1 [00:00<?, ?it/s]"
      ]
     },
     "metadata": {},
     "output_type": "display_data"
    }
   ],
   "source": [
    "dataset = datasets.load_dataset('ucberkeley-dlab/measuring-hate-speech', 'binary')   \n",
    "data = dataset['train'].to_pandas()"
   ]
  },
  {
   "cell_type": "code",
   "execution_count": 17,
   "id": "cdadad6d-7047-45c3-afc7-265abd1e30cf",
   "metadata": {},
   "outputs": [
    {
     "ename": "PicklingError",
     "evalue": "Can't pickle <class 'types.BootstrapResult'>: attribute lookup BootstrapResult on types failed",
     "output_type": "error",
     "traceback": [
      "\u001b[0;31m---------------------------------------------------------------------------\u001b[0m",
      "\u001b[0;31mPicklingError\u001b[0m                             Traceback (most recent call last)",
      "\u001b[0;32m/var/folders/6h/ms_dpkl536d1w6qqd_wnckrw0000gn/T/ipykernel_25262/4100436121.py\u001b[0m in \u001b[0;36m<module>\u001b[0;34m\u001b[0m\n\u001b[1;32m      1\u001b[0m \u001b[0;32mwith\u001b[0m \u001b[0mopen\u001b[0m\u001b[0;34m(\u001b[0m\u001b[0;34m\"krippendorff_items_recoded.pkl\"\u001b[0m\u001b[0;34m,\u001b[0m \u001b[0;34m\"wb\"\u001b[0m\u001b[0;34m)\u001b[0m \u001b[0;32mas\u001b[0m \u001b[0mfile\u001b[0m\u001b[0;34m:\u001b[0m\u001b[0;34m\u001b[0m\u001b[0;34m\u001b[0m\u001b[0m\n\u001b[0;32m----> 2\u001b[0;31m     \u001b[0mpickle\u001b[0m\u001b[0;34m.\u001b[0m\u001b[0mdump\u001b[0m\u001b[0;34m(\u001b[0m\u001b[0mbootstraps\u001b[0m\u001b[0;34m,\u001b[0m \u001b[0mfile\u001b[0m\u001b[0;34m)\u001b[0m\u001b[0;34m\u001b[0m\u001b[0;34m\u001b[0m\u001b[0m\n\u001b[0m",
      "\u001b[0;31mPicklingError\u001b[0m: Can't pickle <class 'types.BootstrapResult'>: attribute lookup BootstrapResult on types failed"
     ]
    }
   ],
   "source": [
    "with open(\"krippendorff_items_recoded.pkl\", \"wb\") as file:\n",
    "    pickle.dump(bootstraps, file)"
   ]
  },
  {
   "cell_type": "code",
   "execution_count": 10,
   "id": "68fc2744-b380-4620-81f8-f0a17e281849",
   "metadata": {},
   "outputs": [],
   "source": [
    "yerr_low = np.array([bootstrap.confidence_interval.low for bootstrap in bootstraps])\n",
    "yerr_high = np.array([bootstrap.confidence_interval.high for bootstrap in bootstraps])\n",
    "ymean = (yerr_low + yerr_high) / 2\n",
    "yerr = np.vstack((ymean - yerr_low, yerr_high - ymean))"
   ]
  },
  {
   "cell_type": "code",
   "execution_count": 12,
   "id": "55308889-d3cc-41cb-b5d3-49ada26a4afd",
   "metadata": {},
   "outputs": [
    {
     "data": {
      "image/png": "[encoded data removed]",
      "text/plain": [
       "<Figure size 720x360 with 1 Axes>"
      ]
     },
     "metadata": {
      "needs_background": "light"
     },
     "output_type": "display_data"
    }
   ],
   "source": [
    "fig, ax = plt.subplots(1, 1, figsize=(10, 5))\n",
    "\n",
    "ax.bar(x=np.arange(n_items),\n",
    "       height=ymean,\n",
    "       yerr=yerr,\n",
    "       color='lightgray',\n",
    "       edgecolor='black',\n",
    "       error_kw={'capsize': 2})\n",
    "\n",
    "ax.set_xticks(np.arange(n_items))\n",
    "ax.set_xticklabels(bold_text(item_labels), ha='right', rotation=20)\n",
    "ax.set_ylim([0, 1])\n",
    "ax.tick_params(labelsize=13)\n",
    "ax.grid(axis='y')\n",
    "ax.set_axisbelow(True)\n",
    "ax.set_xlabel(bold_text(\"Survey Item\"), fontsize=19)\n",
    "ax.set_ylabel(bold_text(r\"Krippendorff's $\\alpha$\"), fontsize=18)\n",
    "plt.savefig('figure2.pdf', bbox_inches='tight')"
   ]
  }
 ],
 "metadata": {
  "kernelspec": {
   "display_name": "hate",
   "language": "python",
   "name": "hate"
  },
  "language_info": {
   "codemirror_mode": {
    "name": "ipython",
    "version": 3
   },
   "file_extension": ".py",
   "mimetype": "text/x-python",
   "name": "python",
   "nbconvert_exporter": "python",
   "pygments_lexer": "ipython3",
   "version": "3.8.12"
  }
 },
 "nbformat": 4,
 "nbformat_minor": 5
}
