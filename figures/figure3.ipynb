{
 "cells": [
  {
   "cell_type": "code",
   "execution_count": null,
   "id": "4ca967e8-6b7f-4428-84fd-15b752f44d86",
   "metadata": {},
   "outputs": [],
   "source": [
    "import datasets \n",
    "import matplotlib.pyplot as plt\n",
    "import mpl_lego as mplego\n",
    "import numpy as np\n",
    "import simpledorff\n",
    "import pandas as pd\n",
    "import pickle\n",
    "\n",
    "from mpl_lego.colorbar import append_colorbar_to_axis\n",
    "from mpl_lego.labels import bold_text\n",
    "from hate_measure.keys import items, item_labels\n",
    "from hate_measure.utils import recode_responses\n",
    "from pyprojroot import here\n",
    "from scipy.stats import bootstrap\n",
    "\n",
    "%matplotlib inline"
   ]
  },
  {
   "cell_type": "code",
   "execution_count": null,
   "id": "a939651b-f33f-4585-8982-1da80d02160d",
   "metadata": {},
   "outputs": [],
   "source": [
    "mplego.style.use_latex_style()"
   ]
  },
  {
   "cell_type": "code",
   "execution_count": null,
   "id": "92ed2372-0398-4108-aea3-416888a95bfa",
   "metadata": {},
   "outputs": [],
   "source": [
    "n_items = len(item_labels)"
   ]
  },
  {
   "cell_type": "code",
   "execution_count": null,
   "id": "b571474f-3fe2-4d5f-a63c-35d042083c70",
   "metadata": {},
   "outputs": [],
   "source": [
    "dataset = datasets.load_dataset('ucberkeley-dlab/measuring-hate-speech', 'binary')   \n",
    "data = dataset['train'].to_pandas()"
   ]
  },
  {
   "cell_type": "code",
   "execution_count": null,
   "id": "d7515b86-0ff9-4fee-9f4b-06af3039d785",
   "metadata": {},
   "outputs": [],
   "source": [
    "with open(here('data/krippendorff_items.pkl'), 'rb') as file:\n",
    "    krippendorffs = pickle.load(file)\n",
    "    \n",
    "with open(here('data/krippendorff_items_recoded.pkl'), 'rb') as file:\n",
    "    krippendorffs_recoded = pickle.load(file)"
   ]
  },
  {
   "cell_type": "code",
   "execution_count": null,
   "id": "b189dcd7-94ca-4a04-a3b8-44b0fdcbedb4",
   "metadata": {},
   "outputs": [],
   "source": [
    "y_mean = (krippendorffs['confidence_low'] + krippendorffs['confidence_high']) / 2.\n",
    "y_err = np.vstack(\n",
    "    (y_mean - krippendorffs['confidence_low'],\n",
    "     krippendorffs['confidence_high'] - y_mean))"
   ]
  },
  {
   "cell_type": "code",
   "execution_count": null,
   "id": "68fc2744-b380-4620-81f8-f0a17e281849",
   "metadata": {},
   "outputs": [],
   "source": [
    "y_mean_recoded = (krippendorffs_recoded['confidence_low'] + krippendorffs_recoded['confidence_high']) / 2.\n",
    "y_err_recoded = np.vstack(\n",
    "    (y_mean_recoded - krippendorffs_recoded['confidence_low'],\n",
    "     krippendorffs_recoded['confidence_high'] - y_mean_recoded))"
   ]
  },
  {
   "cell_type": "code",
   "execution_count": null,
   "id": "55308889-d3cc-41cb-b5d3-49ada26a4afd",
   "metadata": {},
   "outputs": [],
   "source": [
    "fig, ax = plt.subplots(1, 1, figsize=(5, 10))\n",
    "\n",
    "height = 0.8 / 2\n",
    "\n",
    "ax.barh(y=np.arange(n_items) + width / 2,\n",
    "        width=np.flip(y_mean),\n",
    "        height=height,\n",
    "        xerr=np.flip(y_err),\n",
    "        color='gainsboro',\n",
    "        edgecolor='black',\n",
    "        error_kw={'capsize': 3},\n",
    "        label='Original Labels')\n",
    "\n",
    "ax.barh(y=np.arange(n_items) - width / 2,\n",
    "       width=np.flip(y_mean_recoded),\n",
    "       height=height,\n",
    "       xerr=np.flip(y_err_recoded),\n",
    "       color='slategray',\n",
    "       edgecolor='black',\n",
    "       error_kw={'capsize': 3},\n",
    "       label='Recoded Labels')\n",
    "\n",
    "ax.set_yticks(np.flip(np.arange(n_items)))\n",
    "ax.set_yticklabels(bold_text(item_labels), ha='right')\n",
    "ax.set_xlim([0, 1])\n",
    "# ax.set_xticks([0, 0.25, 0.5, 0.75, 1.0])\n",
    "ax.tick_params(labelsize=13)\n",
    "ax.grid(axis='x')\n",
    "ax.set_axisbelow(True)\n",
    "ax.set_xlabel(bold_text(r\"Krippendorff's $\\alpha$\"), fontsize=18)\n",
    "ax.set_ylabel(bold_text(\"Survey Item\"), fontsize=19)\n",
    "\n",
    "ax.legend(loc='best', prop={'size': 14})\n",
    "\n",
    "plt.savefig('figure3.pdf', bbox_inches='tight')"
   ]
  }
 ],
 "metadata": {
  "kernelspec": {
   "display_name": "hate",
   "language": "python",
   "name": "hate"
  },
  "language_info": {
   "codemirror_mode": {
    "name": "ipython",
    "version": 3
   },
   "file_extension": ".py",
   "mimetype": "text/x-python",
   "name": "python",
   "nbconvert_exporter": "python",
   "pygments_lexer": "ipython3",
   "version": "3.8.12"
  }
 },
 "nbformat": 4,
 "nbformat_minor": 5
}
