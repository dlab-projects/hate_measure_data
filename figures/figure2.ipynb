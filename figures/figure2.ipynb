{
 "cells": [
  {
   "cell_type": "code",
   "execution_count": null,
   "id": "afe2606d-e920-45b7-a261-9bcb2b73a43c",
   "metadata": {},
   "outputs": [],
   "source": [
    "import datasets \n",
    "import matplotlib.pyplot as plt\n",
    "import mpl_lego as mplego\n",
    "import numpy as np\n",
    "\n",
    "from mpl_lego.colorbar import append_colorbar_to_axis\n",
    "from mpl_lego.labels import bold_text\n",
    "from hate_measure.keys import items, item_labels\n",
    "\n",
    "%matplotlib inline"
   ]
  },
  {
   "cell_type": "code",
   "execution_count": null,
   "id": "92a07116-4783-407f-9bd7-9211dec62281",
   "metadata": {},
   "outputs": [],
   "source": [
    "mplego.style.use_latex_style()"
   ]
  },
  {
   "cell_type": "code",
   "execution_count": null,
   "id": "e879572c-5c94-497a-8887-be5c122003c5",
   "metadata": {},
   "outputs": [],
   "source": [
    "dataset = datasets.load_dataset('ucberkeley-dlab/measuring-hate-speech', 'binary')   \n",
    "data = dataset['train'].to_pandas()"
   ]
  },
  {
   "cell_type": "code",
   "execution_count": null,
   "id": "39b2dca4-fcff-40a9-8dad-fb3e3c125d7e",
   "metadata": {},
   "outputs": [],
   "source": [
    "avg_items = data.groupby('comment_id')[items].mean().copy()\n",
    "item_corr = avg_items.corr(method='spearman')\n",
    "item_labels[1] = '(Dis)respect'\n",
    "n_items = len(item_labels)"
   ]
  },
  {
   "cell_type": "code",
   "execution_count": null,
   "id": "8f368cd6-718b-43f7-b29b-08091ac46721",
   "metadata": {},
   "outputs": [],
   "source": [
    "fig, axes = plt.subplots(1, 2, figsize=(14, 5), gridspec_kw={'width_ratios': [1, 0.7]})\n",
    "\n",
    "plt.subplots_adjust(wspace=0.4)\n",
    "\n",
    "violins = axes[0].violinplot(\n",
    "    dataset=[avg_items[col] / np.max(avg_items[col]) for col in avg_items.columns],\n",
    "    positions=np.flip(np.arange(n_items)),\n",
    "    vert=False,\n",
    "    bw_method=0.35,\n",
    "    showmedians=True,\n",
    "    widths=0.65)\n",
    "\n",
    "for pc in violins['bodies']:\n",
    "    pc.set_facecolor('gray')\n",
    "    pc.set_edgecolor('black')\n",
    "    pc.set_linewidth(1.5)\n",
    "violins['cmedians'].set_edgecolor('red')\n",
    "violins['cmedians'].set_linewidth(2)\n",
    "violins['cbars'].set_edgecolor('black')\n",
    "violins['cbars'].set_linewidth(1)\n",
    "violins['cmins'].set_edgecolor('black')\n",
    "violins['cmins'].set_linewidth(1.5)\n",
    "violins['cmaxes'].set_edgecolor('black')\n",
    "violins['cmaxes'].set_linewidth(1.5)\n",
    "\n",
    "axes[0].set_xlim([-0.02, 1.02])\n",
    "axes[0].set_xticks([0, 0.25, 0.50, 0.75, 1.0])\n",
    "axes[0].set_yticks(np.flip(np.arange(n_items)))\n",
    "axes[0].set_yticklabels(bold_text(item_labels), ha='right')\n",
    "axes[0].tick_params(labelsize=13)\n",
    "axes[0].set_xlabel(bold_text('Average Normalized Score'), fontsize=16)\n",
    "\n",
    "masked = np.ma.array(item_corr, mask=np.triu(item_corr, k=0))\n",
    "img = axes[1].imshow(masked, vmin=0, vmax=1, interpolation=None, cmap='Greys')\n",
    "cb, cax = append_colorbar_to_axis(axes[1], img)\n",
    "cax.tick_params(labelsize=13)\n",
    "cb.set_ticks([0, 0.25, 0.5, 0.75, 1.0])\n",
    "cb.set_label(bold_text('Spearman Correlation'), fontsize=15, rotation=270, labelpad=20)\n",
    "axes[1].set_xlim([-0.5, 8.5])\n",
    "axes[1].set_yticks(1 + np.arange(n_items - 1))\n",
    "axes[1].set_yticklabels(bold_text(item_labels[1:]), ha='right')\n",
    "\n",
    "axes[1].set_xticks(np.arange(n_items - 1))\n",
    "axes[1].set_xticklabels(bold_text(item_labels[:-1]), ha='right', rotation=30)\n",
    "\n",
    "\n",
    "axes[1].set_ylim([9.5, 0.5])\n",
    "axes[1].tick_params(labelsize=13)\n",
    "\n",
    "for spine in axes[1].spines.values():\n",
    "    spine.set_visible(False)\n",
    "\n",
    "mplego.labels.apply_subplot_labels(axes, bold=True, x=-0.05, y=1.07, fontsize=22)\n",
    "plt.savefig('figure1.pdf', bbox_inches='tight')\n",
    "plt.show()"
   ]
  }
 ],
 "metadata": {
  "kernelspec": {
   "display_name": "hate",
   "language": "python",
   "name": "hate"
  },
  "language_info": {
   "codemirror_mode": {
    "name": "ipython",
    "version": 3
   },
   "file_extension": ".py",
   "mimetype": "text/x-python",
   "name": "python",
   "nbconvert_exporter": "python",
   "pygments_lexer": "ipython3",
   "version": "3.8.12"
  }
 },
 "nbformat": 4,
 "nbformat_minor": 5
}
