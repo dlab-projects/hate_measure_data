{
 "cells": [
  {
   "cell_type": "code",
   "execution_count": null,
   "id": "42b9a938-f61b-42fe-9522-7ab76124b3d6",
   "metadata": {},
   "outputs": [],
   "source": [
    "import datasets \n",
    "import matplotlib.pyplot as plt\n",
    "import mpl_lego as mplego\n",
    "import numpy as np\n",
    "import pandas as pd\n",
    "import simpledorff\n",
    "\n",
    "from mpl_lego.colorbar import append_colorbar_to_axis\n",
    "from mpl_lego.labels import bold_text, apply_subplot_labels\n",
    "from hate_target import keys\n",
    "from scipy.stats import bootstrap\n",
    "\n",
    "%matplotlib inline"
   ]
  },
  {
   "cell_type": "code",
   "execution_count": null,
   "id": "b1e16955-2405-44d1-a0be-fbe72617c8d0",
   "metadata": {},
   "outputs": [],
   "source": [
    "mplego.style.use_latex_style()"
   ]
  },
  {
   "cell_type": "code",
   "execution_count": null,
   "id": "af284cfc-68ed-42e9-8ce6-18e83fe558ca",
   "metadata": {},
   "outputs": [],
   "source": [
    "target_groups = sorted(keys.target_groups[:-1])\n",
    "target_labels = np.array(sorted(keys.target_labels[:-1]))\n",
    "n_targets = len(target_groups)"
   ]
  },
  {
   "cell_type": "code",
   "execution_count": null,
   "id": "14b70535-436f-4b5a-9da8-676565a32885",
   "metadata": {},
   "outputs": [],
   "source": [
    "dataset = datasets.load_dataset('ucberkeley-dlab/measuring-hate-speech', 'binary')   \n",
    "data = dataset['train'].to_pandas()\n",
    "targets = data[['comment_id', 'annotator_id'] + sorted(target_groups)]"
   ]
  },
  {
   "cell_type": "code",
   "execution_count": null,
   "id": "7dbee391-d574-49f6-8495-481840194272",
   "metadata": {},
   "outputs": [],
   "source": [
    "votes = targets.astype({key: 'int' for key in target_groups})\n",
    "agreement = data[['comment_id'] + target_groups].groupby('comment_id').mean()\n",
    "is_target = (agreement >= 0.5).astype('int')\n",
    "n_comments = is_target.sum()\n",
    "sorted_idx = np.argsort(n_comments)"
   ]
  },
  {
   "cell_type": "code",
   "execution_count": null,
   "id": "8b39a512-1d89-4bb3-88b4-7c2f28e120f7",
   "metadata": {},
   "outputs": [],
   "source": [
    "alphas = [\n",
    "    simpledorff.calculate_krippendorffs_alpha_for_df(targets, 'comment_id', 'annotator_id', group)\n",
    "    for group in target_groups]"
   ]
  },
  {
   "cell_type": "code",
   "execution_count": null,
   "id": "2f2c3145-69a2-4b36-aa61-e295bfcb5c32",
   "metadata": {},
   "outputs": [],
   "source": [
    "fig, axes = plt.subplots(1, 3, figsize=(18, 5), sharey=True)\n",
    "\n",
    "plt.subplots_adjust(wspace=0.07)\n",
    "\n",
    "\n",
    "axes[0].barh(y=np.arange(n_targets),\n",
    "             width=np.flip(n_comments[sorted_idx]),\n",
    "             color='lightgrey',\n",
    "             edgecolor='black')\n",
    "\n",
    "axes[0].grid(axis='x')\n",
    "axes[0].set_axisbelow(True)\n",
    "axes[0].set_xticks([0, 5000, 10000, 15000])\n",
    "\n",
    "violins = axes[1].violinplot(\n",
    "    dataset=[agreement[col] for col in agreement.iloc[:, sorted_idx].columns],\n",
    "    positions=np.flip(np.arange(n_targets)),\n",
    "    vert=False,\n",
    "    bw_method=0.35,\n",
    "    showmeans=True,\n",
    "    widths=0.65)\n",
    "\n",
    "for pc in violins['bodies']:\n",
    "    pc.set_facecolor('gray')\n",
    "    pc.set_edgecolor('black')\n",
    "    pc.set_linewidth(1.5)\n",
    "violins['cmeans'].set_edgecolor('red')\n",
    "violins['cmeans'].set_linewidth(2)\n",
    "violins['cbars'].set_edgecolor('black')\n",
    "violins['cbars'].set_linewidth(1)\n",
    "violins['cmins'].set_edgecolor('black')\n",
    "violins['cmins'].set_linewidth(1.5)\n",
    "violins['cmaxes'].set_edgecolor('black')\n",
    "violins['cmaxes'].set_linewidth(1.5)\n",
    "\n",
    "axes[1].set_yticks(np.arange(n_targets))\n",
    "axes[1].set_yticklabels(bold_text(np.flip(target_labels[sorted_idx])))\n",
    "\n",
    "\n",
    "axes[2].barh(y=np.arange(n_targets),\n",
    "             width=np.flip(np.array(alphas)[sorted_idx]),\n",
    "             color='lightgrey',\n",
    "             edgecolor='black')\n",
    "axes[2].grid(axis='x')\n",
    "axes[2].set_axisbelow(True)\n",
    "axes[2].set_xlim([0, 1])\n",
    "axes[2].set_xticks([0, 0.25, 0.50, 0.75, 1.0])\n",
    "\n",
    "for ax in axes:\n",
    "    ax.tick_params(labelsize=15)\n",
    "axes[0].tick_params(axis='y', labelsize=17)\n",
    "\n",
    "axes[0].set_xlabel(bold_text(\"Number of Comments\"), fontsize=17)\n",
    "axes[1].set_xlabel(bold_text('Proportion of Annotators\\nIdentifying Target'), fontsize=17)\n",
    "axes[2].set_xlabel(bold_text(r\"Krippendorff's $\\alpha$\"), fontsize=17)\n",
    "\n",
    "\n",
    "apply_subplot_labels(axes, bold=True, x=-0.04, size=23)\n",
    "plt.savefig('figure4.pdf', bbox_inches='tight')"
   ]
  }
 ],
 "metadata": {
  "kernelspec": {
   "display_name": "hate",
   "language": "python",
   "name": "hate"
  },
  "language_info": {
   "codemirror_mode": {
    "name": "ipython",
    "version": 3
   },
   "file_extension": ".py",
   "mimetype": "text/x-python",
   "name": "python",
   "nbconvert_exporter": "python",
   "pygments_lexer": "ipython3",
   "version": "3.8.12"
  }
 },
 "nbformat": 4,
 "nbformat_minor": 5
}
